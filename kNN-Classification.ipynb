{
 "cells": [
  {
   "cell_type": "markdown",
   "metadata": {},
   "source": [
    "## kNN redshift classification of galaxies by their photometry\n",
    "\n",
    "We will use SDSS data to classify galaxies by their redshift using photometry, labels will come from spectroscopic redshifts form the same catalog."
   ]
  },
  {
   "cell_type": "markdown",
   "metadata": {},
   "source": [
    "We will start by making an SQL query to the SDSS database, where will get u,g,r,i and z bands. We will also get the spectroscopic redshift and class. In this case we have objects that are classified as galaxies and quasars, for the moment we will use both."
   ]
  },
  {
   "cell_type": "code",
   "execution_count": 78,
   "metadata": {},
   "outputs": [],
   "source": [
    "import numpy as np\n",
    "import matplotlib.pyplot as plt\n",
    "import seaborn as sns\n",
    "import pandas as pd\n",
    "\n",
    "from astroquery.sdss import SDSS\n",
    "from sklearn.neighbors import KNeighborsClassifier\n",
    "from sklearn.neighbors import KNeighborsRegressor\n",
    "from sklearn.model_selection import train_test_split\n",
    "from sklearn.metrics import mean_squared_error"
   ]
  },
  {
   "cell_type": "code",
   "execution_count": 138,
   "metadata": {},
   "outputs": [
    {
     "name": "stderr",
     "output_type": "stream",
     "text": [
      "/home/daniela/anaconda3/envs/DSFP/lib/python3.6/site-packages/astroquery/sdss/core.py:856: VisibleDeprecationWarning: Reading unicode strings without specifying the encoding argument is deprecated. Set the encoding, use None for the system default.\n",
      "  comments='#'))\n"
     ]
    }
   ],
   "source": [
    "#Getting data from astropy\n",
    "\n",
    "sdss_query = ''' SELECT TOP 100000\n",
    "           p.modelMag_u, p.modelMag_g, p.modelMag_r, p.modelMag_i, p.modelMag_z,\n",
    "           s.class, s.z\n",
    "           FROM PhotoObjAll AS p JOIN specObjAll s ON s.bestobjid = p.objid\n",
    "           WHERE p.mode = 1 AND s.sciencePrimary = 1 AND p.clean = 1 AND s.class != 'STAR'\n",
    "           ORDER BY p.objid ASC\n",
    "             '''\n",
    "phot_z = SDSS.query_sql(sdss_query)"
   ]
  },
  {
   "cell_type": "code",
   "execution_count": 180,
   "metadata": {},
   "outputs": [],
   "source": [
    "photo_z = phot_z.to_pandas()"
   ]
  },
  {
   "cell_type": "code",
   "execution_count": 181,
   "metadata": {},
   "outputs": [
    {
     "data": {
      "text/plain": [
       "85.962"
      ]
     },
     "execution_count": 181,
     "metadata": {},
     "output_type": "execute_result"
    }
   ],
   "source": [
    "len(photo_z.query('z <= 1')) / len(photo_z) * 100"
   ]
  },
  {
   "cell_type": "code",
   "execution_count": 140,
   "metadata": {
    "collapsed": true
   },
   "outputs": [
    {
     "data": {
      "text/html": [
       "<div>\n",
       "<style scoped>\n",
       "    .dataframe tbody tr th:only-of-type {\n",
       "        vertical-align: middle;\n",
       "    }\n",
       "\n",
       "    .dataframe tbody tr th {\n",
       "        vertical-align: top;\n",
       "    }\n",
       "\n",
       "    .dataframe thead th {\n",
       "        text-align: right;\n",
       "    }\n",
       "</style>\n",
       "<table border=\"1\" class=\"dataframe\">\n",
       "  <thead>\n",
       "    <tr style=\"text-align: right;\">\n",
       "      <th></th>\n",
       "      <th>modelMag_u</th>\n",
       "      <th>modelMag_g</th>\n",
       "      <th>modelMag_r</th>\n",
       "      <th>modelMag_i</th>\n",
       "      <th>modelMag_z</th>\n",
       "      <th>class</th>\n",
       "      <th>z</th>\n",
       "    </tr>\n",
       "  </thead>\n",
       "  <tbody>\n",
       "    <tr>\n",
       "      <th>0</th>\n",
       "      <td>19.41061</td>\n",
       "      <td>18.23754</td>\n",
       "      <td>17.58132</td>\n",
       "      <td>17.20153</td>\n",
       "      <td>16.90159</td>\n",
       "      <td>b'GALAXY'</td>\n",
       "      <td>0.032125</td>\n",
       "    </tr>\n",
       "    <tr>\n",
       "      <th>1</th>\n",
       "      <td>20.98014</td>\n",
       "      <td>20.28274</td>\n",
       "      <td>19.35493</td>\n",
       "      <td>18.85322</td>\n",
       "      <td>18.44382</td>\n",
       "      <td>b'GALAXY'</td>\n",
       "      <td>0.200468</td>\n",
       "    </tr>\n",
       "    <tr>\n",
       "      <th>2</th>\n",
       "      <td>25.26718</td>\n",
       "      <td>22.31524</td>\n",
       "      <td>21.31751</td>\n",
       "      <td>19.93510</td>\n",
       "      <td>19.45918</td>\n",
       "      <td>b'GALAXY'</td>\n",
       "      <td>0.752706</td>\n",
       "    </tr>\n",
       "    <tr>\n",
       "      <th>3</th>\n",
       "      <td>22.66974</td>\n",
       "      <td>22.00222</td>\n",
       "      <td>20.39819</td>\n",
       "      <td>19.57147</td>\n",
       "      <td>19.20231</td>\n",
       "      <td>b'GALAXY'</td>\n",
       "      <td>0.504672</td>\n",
       "    </tr>\n",
       "    <tr>\n",
       "      <th>4</th>\n",
       "      <td>21.43851</td>\n",
       "      <td>18.80143</td>\n",
       "      <td>17.69470</td>\n",
       "      <td>17.19680</td>\n",
       "      <td>16.80610</td>\n",
       "      <td>b'GALAXY'</td>\n",
       "      <td>0.110611</td>\n",
       "    </tr>\n",
       "    <tr>\n",
       "      <th>5</th>\n",
       "      <td>23.00731</td>\n",
       "      <td>21.34087</td>\n",
       "      <td>19.74872</td>\n",
       "      <td>19.14171</td>\n",
       "      <td>18.80783</td>\n",
       "      <td>b'GALAXY'</td>\n",
       "      <td>0.293778</td>\n",
       "    </tr>\n",
       "    <tr>\n",
       "      <th>6</th>\n",
       "      <td>19.80807</td>\n",
       "      <td>18.33917</td>\n",
       "      <td>17.63962</td>\n",
       "      <td>17.24621</td>\n",
       "      <td>17.00000</td>\n",
       "      <td>b'GALAXY'</td>\n",
       "      <td>0.074298</td>\n",
       "    </tr>\n",
       "    <tr>\n",
       "      <th>7</th>\n",
       "      <td>19.54964</td>\n",
       "      <td>17.95799</td>\n",
       "      <td>17.02898</td>\n",
       "      <td>16.53100</td>\n",
       "      <td>16.13408</td>\n",
       "      <td>b'GALAXY'</td>\n",
       "      <td>0.121315</td>\n",
       "    </tr>\n",
       "    <tr>\n",
       "      <th>8</th>\n",
       "      <td>18.74425</td>\n",
       "      <td>17.37778</td>\n",
       "      <td>16.80538</td>\n",
       "      <td>16.51149</td>\n",
       "      <td>16.28756</td>\n",
       "      <td>b'GALAXY'</td>\n",
       "      <td>0.048765</td>\n",
       "    </tr>\n",
       "    <tr>\n",
       "      <th>9</th>\n",
       "      <td>21.17984</td>\n",
       "      <td>19.97005</td>\n",
       "      <td>19.44376</td>\n",
       "      <td>19.11705</td>\n",
       "      <td>19.06998</td>\n",
       "      <td>b'GALAXY'</td>\n",
       "      <td>0.048808</td>\n",
       "    </tr>\n",
       "    <tr>\n",
       "      <th>10</th>\n",
       "      <td>20.77182</td>\n",
       "      <td>18.52682</td>\n",
       "      <td>17.39205</td>\n",
       "      <td>16.88712</td>\n",
       "      <td>16.50065</td>\n",
       "      <td>b'GALAXY'</td>\n",
       "      <td>0.131787</td>\n",
       "    </tr>\n",
       "    <tr>\n",
       "      <th>11</th>\n",
       "      <td>20.19055</td>\n",
       "      <td>20.11118</td>\n",
       "      <td>20.00373</td>\n",
       "      <td>19.53674</td>\n",
       "      <td>19.36661</td>\n",
       "      <td>b'QSO'</td>\n",
       "      <td>1.837838</td>\n",
       "    </tr>\n",
       "    <tr>\n",
       "      <th>12</th>\n",
       "      <td>22.34114</td>\n",
       "      <td>21.00483</td>\n",
       "      <td>19.83536</td>\n",
       "      <td>19.30176</td>\n",
       "      <td>18.86809</td>\n",
       "      <td>b'GALAXY'</td>\n",
       "      <td>0.366703</td>\n",
       "    </tr>\n",
       "    <tr>\n",
       "      <th>13</th>\n",
       "      <td>24.21379</td>\n",
       "      <td>23.15192</td>\n",
       "      <td>21.48281</td>\n",
       "      <td>20.26870</td>\n",
       "      <td>19.87575</td>\n",
       "      <td>b'GALAXY'</td>\n",
       "      <td>0.626536</td>\n",
       "    </tr>\n",
       "    <tr>\n",
       "      <th>14</th>\n",
       "      <td>23.45758</td>\n",
       "      <td>22.32698</td>\n",
       "      <td>22.15744</td>\n",
       "      <td>21.56657</td>\n",
       "      <td>21.87843</td>\n",
       "      <td>b'QSO'</td>\n",
       "      <td>1.570234</td>\n",
       "    </tr>\n",
       "    <tr>\n",
       "      <th>15</th>\n",
       "      <td>22.70652</td>\n",
       "      <td>22.00184</td>\n",
       "      <td>20.28695</td>\n",
       "      <td>19.29193</td>\n",
       "      <td>18.85070</td>\n",
       "      <td>b'GALAXY'</td>\n",
       "      <td>0.511206</td>\n",
       "    </tr>\n",
       "    <tr>\n",
       "      <th>16</th>\n",
       "      <td>23.34500</td>\n",
       "      <td>22.46375</td>\n",
       "      <td>22.20341</td>\n",
       "      <td>22.19646</td>\n",
       "      <td>22.22472</td>\n",
       "      <td>b'QSO'</td>\n",
       "      <td>2.273578</td>\n",
       "    </tr>\n",
       "    <tr>\n",
       "      <th>17</th>\n",
       "      <td>22.81865</td>\n",
       "      <td>23.30316</td>\n",
       "      <td>23.00127</td>\n",
       "      <td>22.92630</td>\n",
       "      <td>22.85339</td>\n",
       "      <td>b'GALAXY'</td>\n",
       "      <td>0.000000</td>\n",
       "    </tr>\n",
       "    <tr>\n",
       "      <th>18</th>\n",
       "      <td>20.65894</td>\n",
       "      <td>19.76736</td>\n",
       "      <td>20.11246</td>\n",
       "      <td>19.77129</td>\n",
       "      <td>19.81050</td>\n",
       "      <td>b'GALAXY'</td>\n",
       "      <td>0.042650</td>\n",
       "    </tr>\n",
       "    <tr>\n",
       "      <th>19</th>\n",
       "      <td>23.35131</td>\n",
       "      <td>22.56780</td>\n",
       "      <td>20.94729</td>\n",
       "      <td>20.03015</td>\n",
       "      <td>19.64862</td>\n",
       "      <td>b'GALAXY'</td>\n",
       "      <td>0.508339</td>\n",
       "    </tr>\n",
       "    <tr>\n",
       "      <th>20</th>\n",
       "      <td>20.49913</td>\n",
       "      <td>19.25486</td>\n",
       "      <td>18.47961</td>\n",
       "      <td>18.04808</td>\n",
       "      <td>17.82513</td>\n",
       "      <td>b'GALAXY'</td>\n",
       "      <td>0.194640</td>\n",
       "    </tr>\n",
       "    <tr>\n",
       "      <th>21</th>\n",
       "      <td>22.28164</td>\n",
       "      <td>20.27043</td>\n",
       "      <td>18.58679</td>\n",
       "      <td>17.99218</td>\n",
       "      <td>17.72025</td>\n",
       "      <td>b'GALAXY'</td>\n",
       "      <td>0.299481</td>\n",
       "    </tr>\n",
       "    <tr>\n",
       "      <th>22</th>\n",
       "      <td>22.04263</td>\n",
       "      <td>20.81222</td>\n",
       "      <td>19.75489</td>\n",
       "      <td>19.30920</td>\n",
       "      <td>19.17317</td>\n",
       "      <td>b'GALAXY'</td>\n",
       "      <td>0.306580</td>\n",
       "    </tr>\n",
       "    <tr>\n",
       "      <th>23</th>\n",
       "      <td>22.95518</td>\n",
       "      <td>20.72871</td>\n",
       "      <td>19.22448</td>\n",
       "      <td>18.66721</td>\n",
       "      <td>18.32628</td>\n",
       "      <td>b'GALAXY'</td>\n",
       "      <td>0.309728</td>\n",
       "    </tr>\n",
       "    <tr>\n",
       "      <th>24</th>\n",
       "      <td>21.17304</td>\n",
       "      <td>20.64075</td>\n",
       "      <td>19.95168</td>\n",
       "      <td>19.27204</td>\n",
       "      <td>18.99716</td>\n",
       "      <td>b'QSO'</td>\n",
       "      <td>0.446935</td>\n",
       "    </tr>\n",
       "    <tr>\n",
       "      <th>25</th>\n",
       "      <td>21.71248</td>\n",
       "      <td>20.94046</td>\n",
       "      <td>19.32797</td>\n",
       "      <td>18.66614</td>\n",
       "      <td>18.27840</td>\n",
       "      <td>b'GALAXY'</td>\n",
       "      <td>0.331166</td>\n",
       "    </tr>\n",
       "    <tr>\n",
       "      <th>26</th>\n",
       "      <td>23.89316</td>\n",
       "      <td>20.90017</td>\n",
       "      <td>19.60821</td>\n",
       "      <td>19.35356</td>\n",
       "      <td>18.51251</td>\n",
       "      <td>b'GALAXY'</td>\n",
       "      <td>0.295058</td>\n",
       "    </tr>\n",
       "    <tr>\n",
       "      <th>27</th>\n",
       "      <td>23.34578</td>\n",
       "      <td>22.42213</td>\n",
       "      <td>20.86357</td>\n",
       "      <td>19.75791</td>\n",
       "      <td>19.41703</td>\n",
       "      <td>b'GALAXY'</td>\n",
       "      <td>0.531512</td>\n",
       "    </tr>\n",
       "    <tr>\n",
       "      <th>28</th>\n",
       "      <td>17.60645</td>\n",
       "      <td>16.16628</td>\n",
       "      <td>15.51308</td>\n",
       "      <td>15.15529</td>\n",
       "      <td>14.87411</td>\n",
       "      <td>b'GALAXY'</td>\n",
       "      <td>0.025475</td>\n",
       "    </tr>\n",
       "    <tr>\n",
       "      <th>29</th>\n",
       "      <td>22.38808</td>\n",
       "      <td>19.85645</td>\n",
       "      <td>18.49045</td>\n",
       "      <td>17.86373</td>\n",
       "      <td>17.44500</td>\n",
       "      <td>b'GALAXY'</td>\n",
       "      <td>0.160313</td>\n",
       "    </tr>\n",
       "    <tr>\n",
       "      <th>...</th>\n",
       "      <td>...</td>\n",
       "      <td>...</td>\n",
       "      <td>...</td>\n",
       "      <td>...</td>\n",
       "      <td>...</td>\n",
       "      <td>...</td>\n",
       "      <td>...</td>\n",
       "    </tr>\n",
       "    <tr>\n",
       "      <th>99970</th>\n",
       "      <td>22.22211</td>\n",
       "      <td>21.43420</td>\n",
       "      <td>20.69259</td>\n",
       "      <td>19.93461</td>\n",
       "      <td>20.11078</td>\n",
       "      <td>b'GALAXY'</td>\n",
       "      <td>0.599786</td>\n",
       "    </tr>\n",
       "    <tr>\n",
       "      <th>99971</th>\n",
       "      <td>23.18604</td>\n",
       "      <td>21.75437</td>\n",
       "      <td>20.03520</td>\n",
       "      <td>19.13634</td>\n",
       "      <td>18.66756</td>\n",
       "      <td>b'GALAXY'</td>\n",
       "      <td>0.513803</td>\n",
       "    </tr>\n",
       "    <tr>\n",
       "      <th>99972</th>\n",
       "      <td>24.11498</td>\n",
       "      <td>22.34068</td>\n",
       "      <td>20.43659</td>\n",
       "      <td>19.61233</td>\n",
       "      <td>19.09655</td>\n",
       "      <td>b'GALAXY'</td>\n",
       "      <td>0.510847</td>\n",
       "    </tr>\n",
       "    <tr>\n",
       "      <th>99973</th>\n",
       "      <td>22.53966</td>\n",
       "      <td>21.14448</td>\n",
       "      <td>20.51974</td>\n",
       "      <td>20.15680</td>\n",
       "      <td>20.06931</td>\n",
       "      <td>b'QSO'</td>\n",
       "      <td>2.107599</td>\n",
       "    </tr>\n",
       "    <tr>\n",
       "      <th>99974</th>\n",
       "      <td>23.41318</td>\n",
       "      <td>21.61544</td>\n",
       "      <td>19.85736</td>\n",
       "      <td>18.89985</td>\n",
       "      <td>18.38500</td>\n",
       "      <td>b'GALAXY'</td>\n",
       "      <td>0.511876</td>\n",
       "    </tr>\n",
       "    <tr>\n",
       "      <th>99975</th>\n",
       "      <td>26.17973</td>\n",
       "      <td>22.36629</td>\n",
       "      <td>20.77667</td>\n",
       "      <td>20.00818</td>\n",
       "      <td>19.27605</td>\n",
       "      <td>b'GALAXY'</td>\n",
       "      <td>0.511324</td>\n",
       "    </tr>\n",
       "    <tr>\n",
       "      <th>99976</th>\n",
       "      <td>17.68346</td>\n",
       "      <td>17.54416</td>\n",
       "      <td>17.62833</td>\n",
       "      <td>17.70243</td>\n",
       "      <td>17.64711</td>\n",
       "      <td>b'QSO'</td>\n",
       "      <td>0.797075</td>\n",
       "    </tr>\n",
       "    <tr>\n",
       "      <th>99977</th>\n",
       "      <td>17.62327</td>\n",
       "      <td>16.37361</td>\n",
       "      <td>15.87697</td>\n",
       "      <td>15.57919</td>\n",
       "      <td>15.42587</td>\n",
       "      <td>b'GALAXY'</td>\n",
       "      <td>0.030612</td>\n",
       "    </tr>\n",
       "    <tr>\n",
       "      <th>99978</th>\n",
       "      <td>21.80829</td>\n",
       "      <td>21.44189</td>\n",
       "      <td>20.92183</td>\n",
       "      <td>20.78967</td>\n",
       "      <td>20.62973</td>\n",
       "      <td>b'GALAXY'</td>\n",
       "      <td>0.165295</td>\n",
       "    </tr>\n",
       "    <tr>\n",
       "      <th>99979</th>\n",
       "      <td>22.08921</td>\n",
       "      <td>21.90673</td>\n",
       "      <td>21.40686</td>\n",
       "      <td>21.01809</td>\n",
       "      <td>20.97644</td>\n",
       "      <td>b'GALAXY'</td>\n",
       "      <td>0.442034</td>\n",
       "    </tr>\n",
       "    <tr>\n",
       "      <th>99980</th>\n",
       "      <td>21.42553</td>\n",
       "      <td>21.68379</td>\n",
       "      <td>21.45092</td>\n",
       "      <td>21.17953</td>\n",
       "      <td>20.68808</td>\n",
       "      <td>b'QSO'</td>\n",
       "      <td>2.030970</td>\n",
       "    </tr>\n",
       "    <tr>\n",
       "      <th>99981</th>\n",
       "      <td>21.14019</td>\n",
       "      <td>20.87552</td>\n",
       "      <td>20.85541</td>\n",
       "      <td>20.61201</td>\n",
       "      <td>20.46111</td>\n",
       "      <td>b'QSO'</td>\n",
       "      <td>2.027890</td>\n",
       "    </tr>\n",
       "    <tr>\n",
       "      <th>99982</th>\n",
       "      <td>23.31507</td>\n",
       "      <td>22.39117</td>\n",
       "      <td>21.58669</td>\n",
       "      <td>21.23303</td>\n",
       "      <td>21.69088</td>\n",
       "      <td>b'GALAXY'</td>\n",
       "      <td>1.779275</td>\n",
       "    </tr>\n",
       "    <tr>\n",
       "      <th>99983</th>\n",
       "      <td>23.71002</td>\n",
       "      <td>22.31639</td>\n",
       "      <td>20.66227</td>\n",
       "      <td>19.64419</td>\n",
       "      <td>19.27391</td>\n",
       "      <td>b'GALAXY'</td>\n",
       "      <td>0.513741</td>\n",
       "    </tr>\n",
       "    <tr>\n",
       "      <th>99984</th>\n",
       "      <td>22.78195</td>\n",
       "      <td>21.71746</td>\n",
       "      <td>20.67103</td>\n",
       "      <td>19.89577</td>\n",
       "      <td>19.68865</td>\n",
       "      <td>b'QSO'</td>\n",
       "      <td>1.926517</td>\n",
       "    </tr>\n",
       "    <tr>\n",
       "      <th>99985</th>\n",
       "      <td>22.80599</td>\n",
       "      <td>22.17415</td>\n",
       "      <td>21.64022</td>\n",
       "      <td>21.14652</td>\n",
       "      <td>20.50227</td>\n",
       "      <td>b'QSO'</td>\n",
       "      <td>0.660520</td>\n",
       "    </tr>\n",
       "    <tr>\n",
       "      <th>99986</th>\n",
       "      <td>23.61509</td>\n",
       "      <td>22.01606</td>\n",
       "      <td>20.92858</td>\n",
       "      <td>19.98571</td>\n",
       "      <td>19.64208</td>\n",
       "      <td>b'GALAXY'</td>\n",
       "      <td>0.603901</td>\n",
       "    </tr>\n",
       "    <tr>\n",
       "      <th>99987</th>\n",
       "      <td>23.30760</td>\n",
       "      <td>22.52591</td>\n",
       "      <td>21.54925</td>\n",
       "      <td>20.95132</td>\n",
       "      <td>20.96086</td>\n",
       "      <td>b'QSO'</td>\n",
       "      <td>1.292033</td>\n",
       "    </tr>\n",
       "    <tr>\n",
       "      <th>99988</th>\n",
       "      <td>25.63948</td>\n",
       "      <td>22.72543</td>\n",
       "      <td>20.96693</td>\n",
       "      <td>19.86065</td>\n",
       "      <td>19.40996</td>\n",
       "      <td>b'GALAXY'</td>\n",
       "      <td>0.602976</td>\n",
       "    </tr>\n",
       "    <tr>\n",
       "      <th>99989</th>\n",
       "      <td>24.06466</td>\n",
       "      <td>23.61690</td>\n",
       "      <td>21.56529</td>\n",
       "      <td>20.47125</td>\n",
       "      <td>19.78062</td>\n",
       "      <td>b'GALAXY'</td>\n",
       "      <td>0.599595</td>\n",
       "    </tr>\n",
       "    <tr>\n",
       "      <th>99990</th>\n",
       "      <td>23.97840</td>\n",
       "      <td>22.96468</td>\n",
       "      <td>21.40796</td>\n",
       "      <td>20.37573</td>\n",
       "      <td>19.68251</td>\n",
       "      <td>b'GALAXY'</td>\n",
       "      <td>0.603949</td>\n",
       "    </tr>\n",
       "    <tr>\n",
       "      <th>99991</th>\n",
       "      <td>19.12058</td>\n",
       "      <td>18.93938</td>\n",
       "      <td>18.68467</td>\n",
       "      <td>18.70278</td>\n",
       "      <td>18.73628</td>\n",
       "      <td>b'QSO'</td>\n",
       "      <td>1.136174</td>\n",
       "    </tr>\n",
       "    <tr>\n",
       "      <th>99992</th>\n",
       "      <td>26.60404</td>\n",
       "      <td>23.56225</td>\n",
       "      <td>20.54047</td>\n",
       "      <td>19.45869</td>\n",
       "      <td>19.02673</td>\n",
       "      <td>b'GALAXY'</td>\n",
       "      <td>0.611204</td>\n",
       "    </tr>\n",
       "    <tr>\n",
       "      <th>99993</th>\n",
       "      <td>19.73725</td>\n",
       "      <td>19.71277</td>\n",
       "      <td>19.77175</td>\n",
       "      <td>19.52660</td>\n",
       "      <td>19.56514</td>\n",
       "      <td>b'QSO'</td>\n",
       "      <td>1.900750</td>\n",
       "    </tr>\n",
       "    <tr>\n",
       "      <th>99994</th>\n",
       "      <td>21.02973</td>\n",
       "      <td>20.32294</td>\n",
       "      <td>20.25982</td>\n",
       "      <td>20.17655</td>\n",
       "      <td>19.65943</td>\n",
       "      <td>b'QSO'</td>\n",
       "      <td>2.424354</td>\n",
       "    </tr>\n",
       "    <tr>\n",
       "      <th>99995</th>\n",
       "      <td>20.33909</td>\n",
       "      <td>18.39828</td>\n",
       "      <td>17.24643</td>\n",
       "      <td>16.76323</td>\n",
       "      <td>16.44464</td>\n",
       "      <td>b'GALAXY'</td>\n",
       "      <td>0.166598</td>\n",
       "    </tr>\n",
       "    <tr>\n",
       "      <th>99996</th>\n",
       "      <td>18.33480</td>\n",
       "      <td>17.17388</td>\n",
       "      <td>16.78117</td>\n",
       "      <td>16.47850</td>\n",
       "      <td>16.35738</td>\n",
       "      <td>b'GALAXY'</td>\n",
       "      <td>0.056177</td>\n",
       "    </tr>\n",
       "    <tr>\n",
       "      <th>99997</th>\n",
       "      <td>20.43885</td>\n",
       "      <td>19.80284</td>\n",
       "      <td>19.70226</td>\n",
       "      <td>19.57771</td>\n",
       "      <td>19.35850</td>\n",
       "      <td>b'QSO'</td>\n",
       "      <td>0.686379</td>\n",
       "    </tr>\n",
       "    <tr>\n",
       "      <th>99998</th>\n",
       "      <td>20.93141</td>\n",
       "      <td>19.91403</td>\n",
       "      <td>19.80193</td>\n",
       "      <td>19.69617</td>\n",
       "      <td>19.75909</td>\n",
       "      <td>b'QSO'</td>\n",
       "      <td>2.800884</td>\n",
       "    </tr>\n",
       "    <tr>\n",
       "      <th>99999</th>\n",
       "      <td>21.30592</td>\n",
       "      <td>19.05905</td>\n",
       "      <td>17.61102</td>\n",
       "      <td>17.07573</td>\n",
       "      <td>16.71511</td>\n",
       "      <td>b'GALAXY'</td>\n",
       "      <td>0.254496</td>\n",
       "    </tr>\n",
       "  </tbody>\n",
       "</table>\n",
       "<p>100000 rows × 7 columns</p>\n",
       "</div>"
      ],
      "text/plain": [
       "       modelMag_u  modelMag_g  modelMag_r  modelMag_i  modelMag_z      class  \\\n",
       "0        19.41061    18.23754    17.58132    17.20153    16.90159  b'GALAXY'   \n",
       "1        20.98014    20.28274    19.35493    18.85322    18.44382  b'GALAXY'   \n",
       "2        25.26718    22.31524    21.31751    19.93510    19.45918  b'GALAXY'   \n",
       "3        22.66974    22.00222    20.39819    19.57147    19.20231  b'GALAXY'   \n",
       "4        21.43851    18.80143    17.69470    17.19680    16.80610  b'GALAXY'   \n",
       "5        23.00731    21.34087    19.74872    19.14171    18.80783  b'GALAXY'   \n",
       "6        19.80807    18.33917    17.63962    17.24621    17.00000  b'GALAXY'   \n",
       "7        19.54964    17.95799    17.02898    16.53100    16.13408  b'GALAXY'   \n",
       "8        18.74425    17.37778    16.80538    16.51149    16.28756  b'GALAXY'   \n",
       "9        21.17984    19.97005    19.44376    19.11705    19.06998  b'GALAXY'   \n",
       "10       20.77182    18.52682    17.39205    16.88712    16.50065  b'GALAXY'   \n",
       "11       20.19055    20.11118    20.00373    19.53674    19.36661     b'QSO'   \n",
       "12       22.34114    21.00483    19.83536    19.30176    18.86809  b'GALAXY'   \n",
       "13       24.21379    23.15192    21.48281    20.26870    19.87575  b'GALAXY'   \n",
       "14       23.45758    22.32698    22.15744    21.56657    21.87843     b'QSO'   \n",
       "15       22.70652    22.00184    20.28695    19.29193    18.85070  b'GALAXY'   \n",
       "16       23.34500    22.46375    22.20341    22.19646    22.22472     b'QSO'   \n",
       "17       22.81865    23.30316    23.00127    22.92630    22.85339  b'GALAXY'   \n",
       "18       20.65894    19.76736    20.11246    19.77129    19.81050  b'GALAXY'   \n",
       "19       23.35131    22.56780    20.94729    20.03015    19.64862  b'GALAXY'   \n",
       "20       20.49913    19.25486    18.47961    18.04808    17.82513  b'GALAXY'   \n",
       "21       22.28164    20.27043    18.58679    17.99218    17.72025  b'GALAXY'   \n",
       "22       22.04263    20.81222    19.75489    19.30920    19.17317  b'GALAXY'   \n",
       "23       22.95518    20.72871    19.22448    18.66721    18.32628  b'GALAXY'   \n",
       "24       21.17304    20.64075    19.95168    19.27204    18.99716     b'QSO'   \n",
       "25       21.71248    20.94046    19.32797    18.66614    18.27840  b'GALAXY'   \n",
       "26       23.89316    20.90017    19.60821    19.35356    18.51251  b'GALAXY'   \n",
       "27       23.34578    22.42213    20.86357    19.75791    19.41703  b'GALAXY'   \n",
       "28       17.60645    16.16628    15.51308    15.15529    14.87411  b'GALAXY'   \n",
       "29       22.38808    19.85645    18.49045    17.86373    17.44500  b'GALAXY'   \n",
       "...           ...         ...         ...         ...         ...        ...   \n",
       "99970    22.22211    21.43420    20.69259    19.93461    20.11078  b'GALAXY'   \n",
       "99971    23.18604    21.75437    20.03520    19.13634    18.66756  b'GALAXY'   \n",
       "99972    24.11498    22.34068    20.43659    19.61233    19.09655  b'GALAXY'   \n",
       "99973    22.53966    21.14448    20.51974    20.15680    20.06931     b'QSO'   \n",
       "99974    23.41318    21.61544    19.85736    18.89985    18.38500  b'GALAXY'   \n",
       "99975    26.17973    22.36629    20.77667    20.00818    19.27605  b'GALAXY'   \n",
       "99976    17.68346    17.54416    17.62833    17.70243    17.64711     b'QSO'   \n",
       "99977    17.62327    16.37361    15.87697    15.57919    15.42587  b'GALAXY'   \n",
       "99978    21.80829    21.44189    20.92183    20.78967    20.62973  b'GALAXY'   \n",
       "99979    22.08921    21.90673    21.40686    21.01809    20.97644  b'GALAXY'   \n",
       "99980    21.42553    21.68379    21.45092    21.17953    20.68808     b'QSO'   \n",
       "99981    21.14019    20.87552    20.85541    20.61201    20.46111     b'QSO'   \n",
       "99982    23.31507    22.39117    21.58669    21.23303    21.69088  b'GALAXY'   \n",
       "99983    23.71002    22.31639    20.66227    19.64419    19.27391  b'GALAXY'   \n",
       "99984    22.78195    21.71746    20.67103    19.89577    19.68865     b'QSO'   \n",
       "99985    22.80599    22.17415    21.64022    21.14652    20.50227     b'QSO'   \n",
       "99986    23.61509    22.01606    20.92858    19.98571    19.64208  b'GALAXY'   \n",
       "99987    23.30760    22.52591    21.54925    20.95132    20.96086     b'QSO'   \n",
       "99988    25.63948    22.72543    20.96693    19.86065    19.40996  b'GALAXY'   \n",
       "99989    24.06466    23.61690    21.56529    20.47125    19.78062  b'GALAXY'   \n",
       "99990    23.97840    22.96468    21.40796    20.37573    19.68251  b'GALAXY'   \n",
       "99991    19.12058    18.93938    18.68467    18.70278    18.73628     b'QSO'   \n",
       "99992    26.60404    23.56225    20.54047    19.45869    19.02673  b'GALAXY'   \n",
       "99993    19.73725    19.71277    19.77175    19.52660    19.56514     b'QSO'   \n",
       "99994    21.02973    20.32294    20.25982    20.17655    19.65943     b'QSO'   \n",
       "99995    20.33909    18.39828    17.24643    16.76323    16.44464  b'GALAXY'   \n",
       "99996    18.33480    17.17388    16.78117    16.47850    16.35738  b'GALAXY'   \n",
       "99997    20.43885    19.80284    19.70226    19.57771    19.35850     b'QSO'   \n",
       "99998    20.93141    19.91403    19.80193    19.69617    19.75909     b'QSO'   \n",
       "99999    21.30592    19.05905    17.61102    17.07573    16.71511  b'GALAXY'   \n",
       "\n",
       "              z  \n",
       "0      0.032125  \n",
       "1      0.200468  \n",
       "2      0.752706  \n",
       "3      0.504672  \n",
       "4      0.110611  \n",
       "5      0.293778  \n",
       "6      0.074298  \n",
       "7      0.121315  \n",
       "8      0.048765  \n",
       "9      0.048808  \n",
       "10     0.131787  \n",
       "11     1.837838  \n",
       "12     0.366703  \n",
       "13     0.626536  \n",
       "14     1.570234  \n",
       "15     0.511206  \n",
       "16     2.273578  \n",
       "17     0.000000  \n",
       "18     0.042650  \n",
       "19     0.508339  \n",
       "20     0.194640  \n",
       "21     0.299481  \n",
       "22     0.306580  \n",
       "23     0.309728  \n",
       "24     0.446935  \n",
       "25     0.331166  \n",
       "26     0.295058  \n",
       "27     0.531512  \n",
       "28     0.025475  \n",
       "29     0.160313  \n",
       "...         ...  \n",
       "99970  0.599786  \n",
       "99971  0.513803  \n",
       "99972  0.510847  \n",
       "99973  2.107599  \n",
       "99974  0.511876  \n",
       "99975  0.511324  \n",
       "99976  0.797075  \n",
       "99977  0.030612  \n",
       "99978  0.165295  \n",
       "99979  0.442034  \n",
       "99980  2.030970  \n",
       "99981  2.027890  \n",
       "99982  1.779275  \n",
       "99983  0.513741  \n",
       "99984  1.926517  \n",
       "99985  0.660520  \n",
       "99986  0.603901  \n",
       "99987  1.292033  \n",
       "99988  0.602976  \n",
       "99989  0.599595  \n",
       "99990  0.603949  \n",
       "99991  1.136174  \n",
       "99992  0.611204  \n",
       "99993  1.900750  \n",
       "99994  2.424354  \n",
       "99995  0.166598  \n",
       "99996  0.056177  \n",
       "99997  0.686379  \n",
       "99998  2.800884  \n",
       "99999  0.254496  \n",
       "\n",
       "[100000 rows x 7 columns]"
      ]
     },
     "execution_count": 140,
     "metadata": {},
     "output_type": "execute_result"
    }
   ],
   "source": [
    "photo_z"
   ]
  },
  {
   "cell_type": "code",
   "execution_count": 141,
   "metadata": {},
   "outputs": [
    {
     "data": {
      "text/plain": [
       "(100000, 7)"
      ]
     },
     "execution_count": 141,
     "metadata": {},
     "output_type": "execute_result"
    }
   ],
   "source": [
    "photo_z.shape"
   ]
  },
  {
   "cell_type": "code",
   "execution_count": 142,
   "metadata": {},
   "outputs": [
    {
     "data": {
      "image/png": "[encoded data removed]",
      "text/plain": [
       "<Figure size 432x288 with 1 Axes>"
      ]
     },
     "metadata": {
      "needs_background": "light"
     },
     "output_type": "display_data"
    }
   ],
   "source": [
    "photo_z.z.hist()\n",
    "plt.yscale('log')"
   ]
  },
  {
   "cell_type": "code",
   "execution_count": 155,
   "metadata": {},
   "outputs": [],
   "source": [
    "photo_z = photo_z.query('z <= 1')"
   ]
  },
  {
   "cell_type": "code",
   "execution_count": 156,
   "metadata": {},
   "outputs": [
    {
     "data": {
      "image/png": "[encoded data removed]",
      "text/plain": [
       "<Figure size 432x288 with 1 Axes>"
      ]
     },
     "metadata": {
      "needs_background": "light"
     },
     "output_type": "display_data"
    }
   ],
   "source": [
    "photo_z.z.hist()\n",
    "plt.yscale('log')"
   ]
  },
  {
   "cell_type": "code",
   "execution_count": 157,
   "metadata": {},
   "outputs": [],
   "source": [
    "# Separate features and classes\n",
    "\n",
    "X = photo_z.iloc[:,:-2]\n",
    "y = photo_z.z\n",
    "\n",
    "X_train, X_test, y_train, y_test = train_test_split(X, y, test_size=0.33, random_state=42)"
   ]
  },
  {
   "cell_type": "code",
   "execution_count": 158,
   "metadata": {},
   "outputs": [
    {
     "data": {
      "text/plain": [
       "<matplotlib.axes._subplots.AxesSubplot at 0x7f09f55a60f0>"
      ]
     },
     "execution_count": 158,
     "metadata": {},
     "output_type": "execute_result"
    },
    {
     "data": {
      "image/png": "[encoded data removed]",
      "text/plain": [
       "<Figure size 432x288 with 1 Axes>"
      ]
     },
     "metadata": {
      "needs_background": "light"
     },
     "output_type": "display_data"
    }
   ],
   "source": [
    "y_train.hist(alpha = 0.5)\n",
    "y_test.hist(alpha = 0.5)"
   ]
  },
  {
   "cell_type": "code",
   "execution_count": 159,
   "metadata": {},
   "outputs": [
    {
     "data": {
      "text/plain": [
       "KNeighborsRegressor(algorithm='auto', leaf_size=30, metric='minkowski',\n",
       "          metric_params=None, n_jobs=None, n_neighbors=3, p=2,\n",
       "          weights='uniform')"
      ]
     },
     "execution_count": 159,
     "metadata": {},
     "output_type": "execute_result"
    }
   ],
   "source": [
    "# Training a Regressor\n",
    "\n",
    "knn_r = KNeighborsRegressor(n_neighbors=3)\n",
    "knn_r.fit(X_train, y_train) "
   ]
  },
  {
   "cell_type": "code",
   "execution_count": 160,
   "metadata": {},
   "outputs": [],
   "source": [
    "# Predict\n",
    "\n",
    "y_predict_r = knn_r.predict(X_test)"
   ]
  },
  {
   "cell_type": "code",
   "execution_count": 165,
   "metadata": {},
   "outputs": [
    {
     "data": {
      "text/plain": [
       "['modelMag_u', 'modelMag_g', 'modelMag_r', 'modelMag_i', 'modelMag_z']"
      ]
     },
     "execution_count": 165,
     "metadata": {},
     "output_type": "execute_result"
    }
   ],
   "source": [
    "list(X_test)"
   ]
  },
  {
   "cell_type": "code",
   "execution_count": 174,
   "metadata": {},
   "outputs": [
    {
     "data": {
      "text/plain": [
       "-9999.0"
      ]
     },
     "execution_count": 174,
     "metadata": {},
     "output_type": "execute_result"
    }
   ],
   "source": [
    "X_train.modelMag_z.min()"
   ]
  },
  {
   "cell_type": "code",
   "execution_count": 175,
   "metadata": {},
   "outputs": [
    {
     "data": {
      "text/plain": [
       "<matplotlib.axes._subplots.AxesSubplot at 0x7f09f4fa26d8>"
      ]
     },
     "execution_count": 175,
     "metadata": {},
     "output_type": "execute_result"
    },
    {
     "data": {
      "image/png": "[encoded data removed]",
      "text/plain": [
       "<Figure size 432x288 with 1 Axes>"
      ]
     },
     "metadata": {
      "needs_background": "light"
     },
     "output_type": "display_data"
    }
   ],
   "source": [
    "#X_train.modelMag_u.hist(bins = 100)\n",
    "#X_train.modelMag_g.hist()\n",
    "X_train.modelMag_r.hist()\n",
    "X_train.modelMag_i.hist()\n",
    "#X_train.modelMag_z.hist()"
   ]
  },
  {
   "cell_type": "code",
   "execution_count": 164,
   "metadata": {},
   "outputs": [
    {
     "data": {
      "text/plain": [
       "[]"
      ]
     },
     "execution_count": 164,
     "metadata": {},
     "output_type": "execute_result"
    },
    {
     "data": {
      "image/png": "[encoded data removed]",
      "text/plain": [
       "<Figure size 432x288 with 1 Axes>"
      ]
     },
     "metadata": {
      "needs_background": "light"
     },
     "output_type": "display_data"
    }
   ],
   "source": [
    "plt.scatter(y_test, y_predict_r, color = X_test.modelMag_r)\n",
    "plt.plot([0,1],[0,1], '--')\n",
    "plt.xlabel('true value')\n",
    "plt.ylabel('predicted value')\n",
    "plt.plot()"
   ]
  },
  {
   "cell_type": "code",
   "execution_count": 182,
   "metadata": {},
   "outputs": [
    {
     "name": "stderr",
     "output_type": "stream",
     "text": [
      "/home/daniela/anaconda3/envs/DSFP/lib/python3.6/site-packages/scipy/stats/stats.py:1713: FutureWarning: Using a non-tuple sequence for multidimensional indexing is deprecated; use `arr[tuple(seq)]` instead of `arr[seq]`. In the future this will be interpreted as an array index, `arr[np.array(seq)]`, which will result either in an error or a different result.\n",
      "  return np.add.reduce(sorted[indexer] * weights, axis=axis) / sumval\n"
     ]
    },
    {
     "data": {
      "image/png": "[encoded data removed]",
      "text/plain": [
       "<Figure size 432x432 with 3 Axes>"
      ]
     },
     "metadata": {
      "needs_background": "light"
     },
     "output_type": "display_data"
    }
   ],
   "source": [
    "sns.jointplot(y_test, y_predict_r, kind=\"hex\")\n",
    "plt.savefig('fig.png')"
   ]
  },
  {
   "cell_type": "code",
   "execution_count": 163,
   "metadata": {},
   "outputs": [
    {
     "data": {
      "text/plain": [
       "0.008338239288860858"
      ]
     },
     "execution_count": 163,
     "metadata": {},
     "output_type": "execute_result"
    }
   ],
   "source": [
    "mean_squared_error(y_test, y_predict_r)"
   ]
  },
  {
   "cell_type": "code",
   "execution_count": 132,
   "metadata": {},
   "outputs": [],
   "source": [
    "# Optimizing number of neighbors based on mean squared error\n",
    "\n",
    "def get_acc(k, X_train, y_train, X_test, y_test):\n",
    "    knn = KNeighborsRegressor(n_neighbors=k)\n",
    "    knn.fit(X_train, y_train) \n",
    "    y_predict = knn.predict(X_test)\n",
    "    \n",
    "    return mean_squared_error(y_test, y_predict)\n",
    "\n",
    "X_tr, X_te, y_tr, y_te = train_test_split(X, y, test_size=0.33, random_state=42)\n",
    "\n",
    "neighbors = np.arange(2,40,1)\n",
    "accuracy = []\n",
    "for n in neighbors:\n",
    "    accuracy.append(get_acc(n, X_tr, y_tr, X_te, y_te))"
   ]
  },
  {
   "cell_type": "code",
   "execution_count": 135,
   "metadata": {},
   "outputs": [
    {
     "name": "stdout",
     "output_type": "stream",
     "text": [
      "The optimal number of neighbors is 10\n"
     ]
    },
    {
     "data": {
      "image/png": "[encoded data removed]",
      "text/plain": [
       "<Figure size 432x288 with 1 Axes>"
      ]
     },
     "metadata": {
      "needs_background": "light"
     },
     "output_type": "display_data"
    }
   ],
   "source": [
    "# Plot results from tuning\n",
    "\n",
    "plt.plot(neighbors, accuracy)\n",
    "plt.xlabel('Number of neighbors')\n",
    "plt.ylabel('Mean Squared Error')\n",
    "print('The optimal number of neighbors is {}'.format(neighbors[np.argmin(accuracy)]))"
   ]
  },
  {
   "cell_type": "code",
   "execution_count": 183,
   "metadata": {},
   "outputs": [
    {
     "name": "stdout",
     "output_type": "stream",
     "text": [
      "Mean Squared Error is 0.1304825465846894\n"
     ]
    },
    {
     "data": {
      "image/png": "[encoded data removed]",
      "text/plain": [
       "<Figure size 432x288 with 1 Axes>"
      ]
     },
     "metadata": {
      "needs_background": "light"
     },
     "output_type": "display_data"
    }
   ],
   "source": [
    "# Re-run for the optimal\n",
    "\n",
    "knn10 = KNeighborsRegressor(n_neighbors=10)\n",
    "knn10.fit(X_tr, y_tr) \n",
    "y_pr = knn10.predict(X_te)\n",
    "mse = mean_squared_error(y_te, y_pr)\n",
    "\n",
    "\n",
    "plt.plot(y_te, y_pr, '.', alpha = 0.3)\n",
    "plt.plot([0,4],[0,4], '--')\n",
    "plt.xlabel('True value')\n",
    "plt.ylabel('Predicted value')\n",
    "plt.title('kNN w/ 10 neighbors')\n",
    "plt.plot()\n",
    "print('Mean Squared Error is {}'.format(mse))\n",
    "plt.savefig('fig2.png')"
   ]
  },
  {
   "cell_type": "code",
   "execution_count": null,
   "metadata": {},
   "outputs": [],
   "source": []
  },
  {
   "cell_type": "code",
   "execution_count": null,
   "metadata": {},
   "outputs": [],
   "source": []
  },
  {
   "cell_type": "code",
   "execution_count": 102,
   "metadata": {},
   "outputs": [],
   "source": [
    "# Test on 3DHST data\n",
    "\n",
    "new_cat = pd.read_csv('/home/daniela/Magister/datos/goodss_3dhst.v4.1.cats/Catalog/goodss_3dhst.v4.1.cat',\n",
    "                      delim_whitespace= True, comment = '#')\n",
    "new_z = pd.read_csv('/home/daniela/Magister/datos/goodss_3dhst.v4.1.cats/Eazy/goodss_3dhst.v4.1.zout',\n",
    "                      delim_whitespace= True, comment = '#')"
   ]
  },
  {
   "cell_type": "code",
   "execution_count": 119,
   "metadata": {},
   "outputs": [
    {
     "data": {
      "text/plain": [
       "<matplotlib.axes._subplots.AxesSubplot at 0x7f09f66ed160>"
      ]
     },
     "execution_count": 119,
     "metadata": {},
     "output_type": "execute_result"
    },
    {
     "data": {
      "image/png": "[encoded data removed]",
      "text/plain": [
       "<Figure size 432x288 with 1 Axes>"
      ]
     },
     "metadata": {
      "needs_background": "light"
     },
     "output_type": "display_data"
    }
   ],
   "source": [
    "new_z.query('z_spec >= 0').z_spec.hist(alpha = 0.4)\n",
    "y_train.hist(alpha = 0.4)"
   ]
  },
  {
   "cell_type": "code",
   "execution_count": 117,
   "metadata": {},
   "outputs": [],
   "source": [
    "z_spec = new_z.query('z_spec >= 0')\n",
    "cat_zspec = new_cat[new_cat.id.isin(z_spec.id)]\n",
    "z_spec = z_spec.z_spec"
   ]
  },
  {
   "cell_type": "code",
   "execution_count": 118,
   "metadata": {},
   "outputs": [
    {
     "data": {
      "text/plain": [
       "(1445, 1445)"
      ]
     },
     "execution_count": 118,
     "metadata": {},
     "output_type": "execute_result"
    }
   ],
   "source": [
    "len(cat_zspec), len(z_spec)"
   ]
  },
  {
   "cell_type": "code",
   "execution_count": 121,
   "metadata": {},
   "outputs": [
    {
     "data": {
      "text/plain": [
       "['faper_F160W',\n",
       " 'eaper_F160W',\n",
       " 'faper_F140W',\n",
       " 'eaper_F140W',\n",
       " 'f_F160W',\n",
       " 'e_F160W',\n",
       " 'w_F160W',\n",
       " 'f_U38',\n",
       " 'e_U38',\n",
       " 'w_U38',\n",
       " 'f_U',\n",
       " 'e_U',\n",
       " 'w_U',\n",
       " 'f_F435W',\n",
       " 'e_F435W',\n",
       " 'w_F435W',\n",
       " 'f_B',\n",
       " 'e_B',\n",
       " 'w_B',\n",
       " 'f_V',\n",
       " 'e_V',\n",
       " 'w_V',\n",
       " 'f_F606Wcand',\n",
       " 'e_F606Wcand',\n",
       " 'w_F606Wcand',\n",
       " 'f_F606W',\n",
       " 'e_F606W',\n",
       " 'w_F606W',\n",
       " 'f_R',\n",
       " 'e_R',\n",
       " 'w_R',\n",
       " 'f_Rc',\n",
       " 'e_Rc',\n",
       " 'w_Rc',\n",
       " 'f_F775W',\n",
       " 'e_F775W',\n",
       " 'w_F775W',\n",
       " 'f_I',\n",
       " 'e_I',\n",
       " 'w_I',\n",
       " 'f_F814Wcand',\n",
       " 'e_F814Wcand',\n",
       " 'w_F814Wcand',\n",
       " 'f_F850LP',\n",
       " 'e_F850LP',\n",
       " 'w_F850LP',\n",
       " 'f_F850LPcand',\n",
       " 'e_F850LPcand',\n",
       " 'w_F850LPcand',\n",
       " 'f_F125W',\n",
       " 'e_F125W',\n",
       " 'w_F125W',\n",
       " 'f_J',\n",
       " 'e_J',\n",
       " 'w_J',\n",
       " 'f_tenisJ',\n",
       " 'e_tenisJ',\n",
       " 'w_tenisJ',\n",
       " 'f_F140W',\n",
       " 'e_F140W',\n",
       " 'w_F140W',\n",
       " 'f_H',\n",
       " 'e_H',\n",
       " 'w_H',\n",
       " 'f_tenisK',\n",
       " 'e_tenisK',\n",
       " 'w_tenisK',\n",
       " 'f_Ks',\n",
       " 'e_Ks',\n",
       " 'w_Ks',\n",
       " 'f_IRAC1',\n",
       " 'e_IRAC1',\n",
       " 'w_IRAC1',\n",
       " 'f_IRAC2',\n",
       " 'e_IRAC2',\n",
       " 'w_IRAC2',\n",
       " 'f_IRAC3',\n",
       " 'e_IRAC3',\n",
       " 'w_IRAC3',\n",
       " 'f_IRAC4',\n",
       " 'e_IRAC4',\n",
       " 'w_IRAC4',\n",
       " 'f_IA427',\n",
       " 'e_IA427',\n",
       " 'f_IA445',\n",
       " 'e_IA445',\n",
       " 'f_IA505',\n",
       " 'e_IA505',\n",
       " 'f_IA527',\n",
       " 'e_IA527',\n",
       " 'f_IA550',\n",
       " 'e_IA550',\n",
       " 'f_IA574',\n",
       " 'e_IA574',\n",
       " 'f_IA598',\n",
       " 'e_IA598',\n",
       " 'f_IA624',\n",
       " 'e_IA624',\n",
       " 'f_IA651',\n",
       " 'e_IA651',\n",
       " 'f_IA679',\n",
       " 'e_IA679',\n",
       " 'f_IA738',\n",
       " 'e_IA738',\n",
       " 'f_IA767',\n",
       " 'e_IA767',\n",
       " 'f_IA797',\n",
       " 'e_IA797',\n",
       " 'f_IA856',\n",
       " 'e_IA856']"
      ]
     },
     "execution_count": 121,
     "metadata": {},
     "output_type": "execute_result"
    }
   ],
   "source": [
    "list(cat_zspec)[5:-26]"
   ]
  },
  {
   "cell_type": "code",
   "execution_count": null,
   "metadata": {},
   "outputs": [],
   "source": [
    "cat = cat_zspec.iloc[:,]"
   ]
  },
  {
   "cell_type": "code",
   "execution_count": null,
   "metadata": {},
   "outputs": [],
   "source": [
    "X_train, X_test, y_train, y_test = train_test_split(c, y, test_size=0.33, random_state=42)"
   ]
  }
 ],
 "metadata": {
  "kernelspec": {
   "display_name": "Python 3",
   "language": "python",
   "name": "python3"
  },
  "language_info": {
   "codemirror_mode": {
    "name": "ipython",
    "version": 3
   },
   "file_extension": ".py",
   "mimetype": "text/x-python",
   "name": "python",
   "nbconvert_exporter": "python",
   "pygments_lexer": "ipython3",
   "version": "3.6.6"
  }
 },
 "nbformat": 4,
 "nbformat_minor": 2
}
