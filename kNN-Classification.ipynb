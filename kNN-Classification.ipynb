{
 "cells": [
  {
   "cell_type": "code",
   "execution_count": 6,
   "metadata": {},
   "outputs": [],
   "source": [
    "from astroquery import sdss"
   ]
  },
  {
   "cell_type": "code",
   "execution_count": 24,
   "metadata": {},
   "outputs": [],
   "source": [
    "#Getting data from astropy\n",
    "\n",
    "sdss_query = ''' SELECT TOP 10000\n",
    "           p.modelMag_u, p.modelMag_g, p.modelMag_r, p.modelMag_i, p.modelMag_z,\n",
    "           s.class, s.z\n",
    "           FROM PhotoObjAll AS p JOIN specObjAll s ON s.bestobjid = p.objid\n",
    "           WHERE p.mode = 1 AND s.sciencePrimary = 1 AND p.clean = 1 AND s.class != 'STAR'\n",
    "           ORDER BY p.objid ASC\n",
    "             '''\n",
    "phot_z = sdss.SDSS.query_sql(sdss_query)"
   ]
  },
  {
   "cell_type": "code",
   "execution_count": 26,
   "metadata": {},
   "outputs": [
    {
     "data": {
      "text/plain": [
       "<bound method Table.to_pandas of <Table length=10000>\n",
       "modelMag_u modelMag_g modelMag_r modelMag_i modelMag_z class      z     \n",
       " float64    float64    float64    float64    float64   bytes6  float64  \n",
       "---------- ---------- ---------- ---------- ---------- ------ ----------\n",
       "  19.41061   18.23754   17.58132   17.20153   16.90159 GALAXY 0.03212454\n",
       "  20.98014   20.28274   19.35493   18.85322   18.44382 GALAXY  0.2004682\n",
       "  25.26718   22.31524   21.31751    19.9351   19.45918 GALAXY  0.7527065\n",
       "  22.66974   22.00222   20.39819   19.57147   19.20231 GALAXY  0.5046716\n",
       "  21.43851   18.80143    17.6947    17.1968    16.8061 GALAXY  0.1106111\n",
       "  23.00731   21.34087   19.74872   19.14171   18.80783 GALAXY  0.2937785\n",
       "  19.80807   18.33917   17.63962   17.24621       17.0 GALAXY 0.07429758\n",
       "  19.54964   17.95799   17.02898     16.531   16.13408 GALAXY  0.1213151\n",
       "  18.74425   17.37778   16.80538   16.51149   16.28756 GALAXY 0.04876465\n",
       "  21.17984   19.97005   19.44376   19.11705   19.06998 GALAXY  0.0488077\n",
       "       ...        ...        ...        ...        ...    ...        ...\n",
       "  23.96646    21.8138   20.52882   19.58416   19.13594 GALAXY  0.4705051\n",
       "  22.46249    21.5755   20.18278   19.40361    19.0386    QSO  0.5058426\n",
       "  22.00917   20.31034   18.70237    18.0278   17.58743 GALAXY  0.2770502\n",
       "  22.22587   21.54797   21.35496   21.27905    20.9651    QSO   1.039626\n",
       "  23.32265   20.94291   19.09501   18.45403   18.19358 GALAXY  0.3689871\n",
       "   25.3506   22.86983   20.81399   19.75162   19.14215 GALAXY  0.5946572\n",
       "  24.16751   21.85593   21.36356   21.16059   20.91163    QSO    1.55006\n",
       "  24.94496   21.72662   19.89778   19.03536   18.52786 GALAXY  0.4673323\n",
       "  22.61281   21.98088   20.80094   20.32153   20.02071    QSO  0.4772089\n",
       "  24.98181   21.80194     21.691   21.76005   21.20513    QSO  0.6407933>"
      ]
     },
     "execution_count": 26,
     "metadata": {},
     "output_type": "execute_result"
    }
   ],
   "source": [
    "phot_z.to_pandas"
   ]
  },
  {
   "cell_type": "code",
   "execution_count": 18,
   "metadata": {},
   "outputs": [
    {
     "data": {
      "text/plain": [
       "'0.3.8'"
      ]
     },
     "execution_count": 18,
     "metadata": {},
     "output_type": "execute_result"
    }
   ],
   "source": [
    "import astroquery\n",
    "astroquery.__version__"
   ]
  }
 ],
 "metadata": {
  "kernelspec": {
   "display_name": "Python 3",
   "language": "python",
   "name": "python3"
  },
  "language_info": {
   "codemirror_mode": {
    "name": "ipython",
    "version": 3
   },
   "file_extension": ".py",
   "mimetype": "text/x-python",
   "name": "python",
   "nbconvert_exporter": "python",
   "pygments_lexer": "ipython3",
   "version": "3.6.6"
  }
 },
 "nbformat": 4,
 "nbformat_minor": 2
}
